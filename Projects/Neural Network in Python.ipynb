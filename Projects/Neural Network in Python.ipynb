{
 "cells": [
  {
   "cell_type": "code",
   "execution_count": 1,
   "id": "208d1ffd",
   "metadata": {},
   "outputs": [],
   "source": [
    "import numpy as np\n",
    "import math\n",
    "import random as rd\n",
    "import matplotlib.pyplot as plt"
   ]
  },
  {
   "cell_type": "markdown",
   "id": "20b8380d",
   "metadata": {},
   "source": [
    "# 全局变量定义"
   ]
  },
  {
   "cell_type": "code",
   "execution_count": 128,
   "id": "49d0358c",
   "metadata": {},
   "outputs": [],
   "source": [
    "L = 2 # layers\n",
    "M = 1 # inputs\n",
    "N = 1 # output\n",
    "MD = 91 # data\n",
    "nl = [M, 1, N] # number of neurons in each layer\n",
    "alpha = 0.000075 # learning rate\n",
    "ROUND = 500 # training rounds\n",
    "n_parameter = 0\n",
    "for l in range(len(nl)-1):\n",
    "    n_parameter += (nl[l]+1) * nl[l+1]\n",
    "\n",
    "READ_WEIGHT = True\n",
    "\n",
    "# choices of activation functions\n",
    "activation_dict = {\"0\": Cons, \"1\": ReLU, \"2\": sigmoid, \"3\": log, \"4\": exp}\n",
    "reactivation_dict = {\"0\": rCons, \"1\": rReLU, \"2\": rsigmoid, \"3\": rlog, \"4\": rexp}\n",
    "activations = [0, 3, 4] # activation functions in each layer\n",
    "reactivations = activations.copy()\n",
    "# relate activation functions to layers\n",
    "for i, a in enumerate(activations):\n",
    "    activations[i] = activation_dict[str(a)]\n",
    "for i, a in enumerate(reactivations):\n",
    "    reactivations[i] = reactivation_dict[str(a)]"
   ]
  },
  {
   "cell_type": "markdown",
   "id": "a7429139",
   "metadata": {},
   "source": [
    "# 主函数"
   ]
  },
  {
   "cell_type": "code",
   "execution_count": 26,
   "id": "d3dfac61",
   "metadata": {},
   "outputs": [],
   "source": [
    "def main():\n",
    "    # addresses\n",
    "    #address_x = \"E:\\\\炼金法师团__复旦\\\\物理模型\\\\匀加速直线input.txt\"\n",
    "    #address_y = \"E:\\\\炼金法师团__复旦\\\\物理模型\\\\匀加速直线train.txt\"\n",
    "    address_x = \"E:\\\\炼金法师团__复旦\\\\人梯工程\\\\神经网络\\\\Log激活函数\\\\log_test_input.txt\"\n",
    "    address_y = \"E:\\\\炼金法师团__复旦\\\\人梯工程\\\\神经网络\\\\Log激活函数\\\\log_test_train.txt\"\n",
    "    address_loss = \"E:\\\\炼金法师团__复旦\\\\人梯工程\\\\神经网络\\\\Log激活函数\\\\log_test_loss.txt\"\n",
    "    address_Log = \"E:\\\\炼金法师团__复旦\\\\人梯工程\\\\神经网络\\\\Log激活函数\\\\log_test_Log.txt\"\n",
    "    address_weight = \"E:\\\\炼金法师团__复旦\\\\人梯工程\\\\神经网络\\\\Log激活函数\\\\log_test_weight.txt\"\n",
    "    f_loss = open(address_loss, 'w+', encoding='utf-8')\n",
    "    f_Log = open(address_Log, 'w+', encoding='utf-8')\n",
    "    \n",
    "    gen_data(address_x, address_y)\n",
    "    # bound of random W initialization\n",
    "    lower = -1\n",
    "    upper = 1\n",
    "    \n",
    "    # initialize neural network structure\n",
    "    x0, y0, x, y, s, W, ds, dy, dW = init()\n",
    "    \n",
    "    W = [[], np.array([[1.,0.],[-0.51485757,0.80383279]]), np.array([[1.,0.],[0.00616596, 2.14594328]])]\n",
    "    # read in data of x0, y0, and weights, or randomly generate weights\n",
    "    read(x0, y0, W, address_x, address_y, address_weight, lower, upper)\n",
    "    \n",
    "    # normalization\n",
    "    # x0 = norm(x0)\n",
    "    # y0 = norm(y0)\n",
    "    \n",
    "    for i in range(1, ROUND+1):\n",
    "        forward_prop(x0, W, x, s, y)\n",
    "        \n",
    "        f_Log.write(f\"W\\n{W[1:]}\\n\\n\")\n",
    "        f_Log.write(\"x0\\n{}\\n\\nx\\n{}\\n\\ns\\n{}\\n\\ny\\n{}\\n\\ny0\\n{}\\n\\n\".format(x0, x[1:], s[1:], y[1:], y0))\n",
    "        f_loss.write(str(round(Loss(y[L], y0)[0],4))+'\\n')\n",
    "        \n",
    "        back_prop(y0, x, y, W, dy, ds, dW)\n",
    "        \n",
    "        f_Log.write(\"dy\\n{}\\n\\nds\\n{}\\n\\ndW\\n{}\\n\\n\".format(dy[1:], ds[1:], dW[1:]))\n",
    "        \n",
    "        update(W, dW)\n",
    "    \n",
    "    f_Log.write(f\"W\\n{W[1:]}\\n\\n\")\n",
    "    \n",
    "    # save parameters\n",
    "    f_weight = open(address_weight, 'w+', encoding='utf-8')\n",
    "    for l in W[1:]:\n",
    "        for j in l[1:]:\n",
    "            for i in j:\n",
    "                f_weight.write(str(i))\n",
    "                f_weight.write(\" \")\n",
    "            f_weight.write('\\n')\n",
    "        f_weight.write('\\n')\n",
    "    \n",
    "    f_loss.close()\n",
    "    f_Log.close()\n",
    "    f_weight.close()\n",
    "    return x0, y0, x, y, s, W, ds, dy, dW"
   ]
  },
  {
   "cell_type": "code",
   "execution_count": null,
   "id": "fb25d538",
   "metadata": {},
   "outputs": [],
   "source": []
  },
  {
   "cell_type": "code",
   "execution_count": 130,
   "id": "5d611454",
   "metadata": {
    "scrolled": true
   },
   "outputs": [
    {
     "name": "stdout",
     "output_type": "stream",
     "text": [
      "['-0.6330671853409149 0.8300480613587937', '-0.007221967954515587 2.138163569945808']\n"
     ]
    }
   ],
   "source": [
    "x0, y0, x, y, s, W, ds, dy, dW = main()"
   ]
  },
  {
   "cell_type": "code",
   "execution_count": 131,
   "id": "a17e0b1a",
   "metadata": {
    "scrolled": false
   },
   "outputs": [
    {
     "name": "stdout",
     "output_type": "stream",
     "text": [
      "0.0424\n"
     ]
    },
    {
     "data": {
      "image/png": "[encoded data removed]",
      "text/plain": [
       "<Figure size 640x480 with 1 Axes>"
      ]
     },
     "metadata": {},
     "output_type": "display_data"
    }
   ],
   "source": [
    "# plot the change of loss\n",
    "#address_L = \"E:\\\\炼金法师团__复旦\\\\物理模型\\\\匀加速直线loss.txt\"\n",
    "address_loss = \"E:\\\\炼金法师团__复旦\\\\人梯工程\\\\神经网络\\\\Log激活函数\\\\log_test_loss.txt\"\n",
    "f_loss = open(address_loss, 'r', encoding='utf-8')\n",
    "\n",
    "data = f_loss.read()\n",
    "data = data.split('\\n')[:-1]\n",
    "rounds = np.arange(1, ROUND+1)\n",
    "data = np.array(data, dtype=float)\n",
    "\n",
    "print(data[-1])\n",
    "plt.plot(rounds, data)\n",
    "plt.show()\n",
    "\n",
    "f_loss.close()\n",
    "\n"
   ]
  },
  {
   "cell_type": "code",
   "execution_count": 127,
   "id": "68f560d3",
   "metadata": {
    "scrolled": false
   },
   "outputs": [
    {
     "name": "stdout",
     "output_type": "stream",
     "text": [
      "0.0428\n"
     ]
    },
    {
     "data": {
      "image/png": "[encoded data removed]",
      "text/plain": [
       "<Figure size 640x480 with 1 Axes>"
      ]
     },
     "metadata": {},
     "output_type": "display_data"
    }
   ],
   "source": [
    "# plot the change of loss\n",
    "#address_L = \"E:\\\\炼金法师团__复旦\\\\物理模型\\\\匀加速直线loss.txt\"\n",
    "address_loss = \"E:\\\\炼金法师团__复旦\\\\人梯工程\\\\神经网络\\\\Log激活函数\\\\log_test_loss.txt\"\n",
    "f_loss = open(address_loss, 'r', encoding='utf-8')\n",
    "\n",
    "data = f_loss.read()\n",
    "data = data.split('\\n')[:-1]\n",
    "rounds = np.arange(1, ROUND+1)\n",
    "data = np.array(data, dtype=float)\n",
    "\n",
    "print(data[-1])\n",
    "plt.plot(rounds, data)\n",
    "plt.show()\n",
    "\n",
    "f_loss.close()\n",
    "\n"
   ]
  },
  {
   "cell_type": "code",
   "execution_count": 117,
   "id": "b775d47f",
   "metadata": {},
   "outputs": [
    {
     "name": "stdout",
     "output_type": "stream",
     "text": [
      "0.0438\n"
     ]
    },
    {
     "data": {
      "image/png": "[encoded data removed]",
      "text/plain": [
       "<Figure size 640x480 with 1 Axes>"
      ]
     },
     "metadata": {},
     "output_type": "display_data"
    }
   ],
   "source": [
    "# plot the change of loss\n",
    "#address_L = \"E:\\\\炼金法师团__复旦\\\\物理模型\\\\匀加速直线loss.txt\"\n",
    "address_loss = \"E:\\\\炼金法师团__复旦\\\\人梯工程\\\\神经网络\\\\Log激活函数\\\\log_test_loss.txt\"\n",
    "f_loss = open(address_loss, 'r', encoding='utf-8')\n",
    "\n",
    "data = f_loss.read()\n",
    "data = data.split('\\n')[:-1]\n",
    "rounds = np.arange(1, ROUND+1)\n",
    "data = np.array(data, dtype=float)\n",
    "\n",
    "print(data[-1])\n",
    "plt.plot(rounds, data)\n",
    "plt.show()\n",
    "\n",
    "f_loss.close()\n",
    "\n"
   ]
  },
  {
   "cell_type": "code",
   "execution_count": 123,
   "id": "6e5a8579",
   "metadata": {
    "scrolled": false
   },
   "outputs": [
    {
     "name": "stdout",
     "output_type": "stream",
     "text": [
      "[  1.4569   1.6816   1.9236   2.183    2.4598   2.7544   3.0667   3.3969\n",
      "   3.7451   4.1115   4.4962   4.8992   5.3207   5.7607   6.2194   6.6968\n",
      "   7.193    7.7082   8.2424   8.7957   9.3681   9.9598  10.5708  11.2012\n",
      "  11.8511  12.5205  13.2095  13.9182  14.6466  15.3949  16.163   16.9511\n",
      "  17.7591  18.5873  19.4355  20.3039  21.1925  22.1014  23.0307  23.9803\n",
      "  24.9504  25.941   26.9522  27.984   29.0364  30.1095  31.2033  32.318\n",
      "  33.4535  34.6099  35.7872  36.9855  38.2049  39.4453  40.7068  41.9895\n",
      "  43.2934  44.6185  45.9649  47.3327  48.7218  50.1323  51.5642  53.0177\n",
      "  54.4926  55.9891  57.5072  59.0469  60.6084  62.1915  63.7963  65.423\n",
      "  67.0714  68.7417  70.4339  72.148   73.884   75.6421  77.4221  79.2243\n",
      "  81.0485  82.8948  84.7632  86.6539  88.5667  90.5018  92.4592  94.4389\n",
      "  96.4409  98.4653 100.5121]\n"
     ]
    },
    {
     "data": {
      "image/png": "[encoded data removed]",
      "text/plain": [
       "<Figure size 640x480 with 1 Axes>"
      ]
     },
     "metadata": {},
     "output_type": "display_data"
    }
   ],
   "source": [
    "# plot the predicted and the actual function\n",
    "address_x = \"E:\\\\炼金法师团__复旦\\\\人梯工程\\\\神经网络\\\\Log激活函数\\\\log_test_input.txt\"\n",
    "address_y = \"E:\\\\炼金法师团__复旦\\\\人梯工程\\\\神经网络\\\\Log激活函数\\\\log_test_train.txt\"\n",
    "f1 = open(address_x, 'r+', encoding='utf-8')\n",
    "f2 = open(address_y, 'r+', encoding='utf-8')\n",
    "\n",
    "data_x = f1.read()\n",
    "data_y = f2.read()\n",
    "data_x = data_x.split('\\n')\n",
    "data_y = data_y.split('\\n')\n",
    "data_x = np.array(data_x, dtype=\"float\").reshape(1, MD)\n",
    "data_y = np.array(data_y, dtype=\"float\").reshape(1, MD)\n",
    "for i, x_val in enumerate(data_x[0]):\n",
    "    data_x[0][i] = round(x_val,2)\n",
    "for i, y_val in enumerate(data_y[0]):\n",
    "    data_y[0][i] = round(y_val,4)\n",
    "\n",
    "# data_y = np.array([np.ones((MD)), data_y[0]])\n",
    "# data_y = norm(data_y)[1]\n",
    "data_y = data_y[0]\n",
    "\n",
    "y_hat = y[-1][1].reshape(1, MD)\n",
    "for i, y_val in enumerate(y_hat[0]):\n",
    "    y_hat[0][i] = round(y_val,4)\n",
    "\n",
    "\n",
    "# print(data_x[0])\n",
    "# print(data_y)\n",
    "print(y_hat[0])\n",
    "\n",
    "\n",
    "plt.plot(data_x[0], data_y)\n",
    "plt.plot(data_x[0], y_hat[0])\n",
    "plt.title(\"Quadratic Function\")\n",
    "plt.show()\n",
    "\n",
    "f1.close()\n",
    "f2.close()"
   ]
  },
  {
   "cell_type": "code",
   "execution_count": 129,
   "id": "97ee88f8",
   "metadata": {
    "scrolled": true
   },
   "outputs": [
    {
     "name": "stdout",
     "output_type": "stream",
     "text": [
      "-0.6330671853409149 0.8300480613587937\n",
      "\n",
      "-0.007221967954515587 2.138163569945808\n"
     ]
    }
   ],
   "source": [
    "# roll back to the last-time parameters\n",
    "address_weight = \"E:\\\\炼金法师团__复旦\\\\人梯工程\\\\神经网络\\\\Log激活函数\\\\log_test_weight.txt\"\n",
    "address_sweight = \"E:\\\\炼金法师团__复旦\\\\人梯工程\\\\神经网络\\\\Log激活函数\\\\stored_weight.txt\"\n",
    "fw = open(address_weight, 'w+', encoding='utf-8')\n",
    "fsw = open(address_sweight, 'r', encoding='utf-8')\n",
    "\n",
    "data = fsw.read()\n",
    "print(data)\n",
    "fw.write(data)\n",
    "\n",
    "fw.close()\n",
    "fsw.close()"
   ]
  },
  {
   "cell_type": "code",
   "execution_count": null,
   "id": "fbbc70b0",
   "metadata": {},
   "outputs": [],
   "source": []
  },
  {
   "cell_type": "code",
   "execution_count": 108,
   "id": "449faf4f",
   "metadata": {},
   "outputs": [],
   "source": [
    "# update the stored_weight\n",
    "# don't do it unless you are sure\n",
    "address_weight = \"E:\\\\炼金法师团__复旦\\\\人梯工程\\\\神经网络\\\\Log激活函数\\\\log_test_weight.txt\"\n",
    "address_sweight = \"E:\\\\炼金法师团__复旦\\\\人梯工程\\\\神经网络\\\\Log激活函数\\\\stored_weight.txt\"\n",
    "fw = open(address_weight, 'r', encoding='utf-8')\n",
    "fsw = open(address_sweight, 'w+', encoding='utf-8')\n",
    "\n",
    "data = fw.read()[:-2]\n",
    "fsw.write(data)\n",
    "\n",
    "fw.close()\n",
    "fsw.close()"
   ]
  },
  {
   "cell_type": "code",
   "execution_count": 54,
   "id": "036bd576",
   "metadata": {
    "scrolled": true
   },
   "outputs": [
    {
     "data": {
      "text/plain": [
       "[[],\n",
       " array([[ 1.        ,  0.        ],\n",
       "        [-0.51485757,  0.80383279]]),\n",
       " array([[1.        , 0.        ],\n",
       "        [0.00616596, 2.14594328]])]"
      ]
     },
     "execution_count": 54,
     "metadata": {},
     "output_type": "execute_result"
    }
   ],
   "source": [
    "W"
   ]
  },
  {
   "cell_type": "code",
   "execution_count": 30,
   "id": "577bcce1",
   "metadata": {},
   "outputs": [
    {
     "name": "stdout",
     "output_type": "stream",
     "text": [
      "[['1.0'], ['1.1'], ['1.2']]\n"
     ]
    }
   ],
   "source": [
    "a = ['1.0', '1.1', '1.2']\n",
    "for i in range(3):\n",
    "    a[i] = a[i].split(' ')\n",
    "print(a)"
   ]
  },
  {
   "cell_type": "code",
   "execution_count": null,
   "id": "7ecd7f2a",
   "metadata": {},
   "outputs": [],
   "source": []
  },
  {
   "cell_type": "markdown",
   "id": "0f852a8d",
   "metadata": {},
   "source": [
    "# 初始化"
   ]
  },
  {
   "cell_type": "code",
   "execution_count": 2,
   "id": "8cccddde",
   "metadata": {},
   "outputs": [],
   "source": [
    "def init():\n",
    "    ones = np.ones((1,MD))\n",
    "    x0 = np.zeros((M+1, MD))\n",
    "    x0[0] = ones.copy()\n",
    "    \n",
    "    y0 = np.zeros((N+1, MD))\n",
    "    y0[0] = ones.copy()\n",
    "    \n",
    "    x = [[]]\n",
    "    for l in range(1, L+1):\n",
    "        x.append(np.zeros((nl[l-1]+1, MD)))\n",
    "        x[l][0] = ones.copy()\n",
    "    \n",
    "    y = [[]]\n",
    "    for l in range(1, L+1):\n",
    "        y.append(np.zeros((nl[l]+1, MD)))\n",
    "        y[l][0] = ones.copy()\n",
    "    \n",
    "    s = y.copy()\n",
    "    \n",
    "    W = [[]]\n",
    "    for l in range(1, L+1):\n",
    "        W.append(np.zeros((nl[l]+1, nl[l-1]+1)))\n",
    "        W[l][0][0] = 1.0\n",
    "    \n",
    "    ds = [[]]\n",
    "    for l in range(1, L+1):\n",
    "        ds.append(np.zeros((nl[l]+1, MD)))\n",
    "    \n",
    "    dy = ds.copy()\n",
    "    \n",
    "    dW = [[]]\n",
    "    for l in range(1, L+1):\n",
    "        dW.append(np.zeros((nl[l]+1, nl[l-1]+1)))\n",
    "    \n",
    "    return x0, y0, x, y, s, W, ds, dy, dW\n",
    "    "
   ]
  },
  {
   "cell_type": "markdown",
   "id": "93aca39d",
   "metadata": {},
   "source": [
    "# 生成数据"
   ]
  },
  {
   "cell_type": "code",
   "execution_count": 3,
   "id": "50f2a18e",
   "metadata": {},
   "outputs": [],
   "source": [
    "def gen_data(address_x, address_y):\n",
    "    f1 = open(address_x, 'w+', encoding='utf-8')\n",
    "    f2 = open(address_y, 'w+', encoding='utf-8')\n",
    "    \n",
    "    x = np.linspace(1, 10, MD)\n",
    "    y = x**2\n",
    "    \n",
    "    \n",
    "    for i in range(MD-1):\n",
    "        f1.write(str(round(x[i],2))+'\\n')\n",
    "        f2.write(str(round(y[i],2))+'\\n')\n",
    "    f1.write(str(round(x[MD-1],2)))\n",
    "    f2.write(str(round(y[MD-1],2)))\n",
    "    \n",
    "    \n",
    "    f1.close()\n",
    "    f2.close()"
   ]
  },
  {
   "cell_type": "markdown",
   "id": "d66372ae",
   "metadata": {},
   "source": [
    "# 读入数据"
   ]
  },
  {
   "cell_type": "code",
   "execution_count": 63,
   "id": "5bb50171",
   "metadata": {},
   "outputs": [],
   "source": [
    "def read(x0, y0, W, address_x, address_y, address_weight, lower, upper):\n",
    "    f1 = open(address_x, 'r', encoding='utf-8')\n",
    "    f2 = open(address_y, 'r', encoding='utf-8')\n",
    "    fw = open(address_weight, 'r', encoding='utf-8')\n",
    "    \n",
    "    data_x0 = f1.read()\n",
    "    data_y0 = f2.read()\n",
    "    data_weight = fw.read()\n",
    "    \n",
    "    \n",
    "    data_weight = data_weight.split('\\n')\n",
    "    data_x0 = data_x0.split('\\n')\n",
    "    data_y0 = data_y0.split('\\n')\n",
    "    for i in range(L-1):\n",
    "        data_weight.remove('')\n",
    "    for j in range(MD):\n",
    "        data_x0[j] = data_x0[j].split(' ')\n",
    "        data_y0[j] = data_y0[j].split(' ')\n",
    "    print(data_weight)\n",
    "    for l in range(L):\n",
    "        data_weight[l] = data_weight[l].split(' ')\n",
    "    data_x0 = np.array(data_x0, dtype=\"float\").reshape(1, MD*M)[0]\n",
    "    data_y0 = np.array(data_y0, dtype=\"float\").reshape(1, MD*M)[0]\n",
    "    data_weight = np.array(data_weight, dtype=\"float\").reshape(1, n_parameter)[0]\n",
    "    \n",
    "    cnt_x = 0\n",
    "    cnt_y = 0\n",
    "    for md in range(MD):\n",
    "        for j in range(1, M+1):\n",
    "            x0[j][md] = data_x0[cnt_x]\n",
    "            cnt_x += 1\n",
    "        for j in range(1, N+1):\n",
    "            y0[j][md] = data_y0[cnt_y]\n",
    "            cnt_y += 1\n",
    "    \n",
    "    cnt = 0\n",
    "    if READ_WEIGHT:\n",
    "        for l in range(1, L+1):\n",
    "            for j in range(1, nl[l]+1):\n",
    "                for i in range(nl[l-1]+1):\n",
    "                    W[l][j][i] = data_weight[cnt]\n",
    "                    cnt += 1\n",
    "    else:\n",
    "        for l in range(1, L+1):\n",
    "            for j in range(1, nl[l]+1):\n",
    "                for i in range(nl[l-1]+1):\n",
    "                    W[l][j][i] = rd.uniform(lower, upper)\n",
    "    \n",
    "    f1.close()\n",
    "    f2.close()\n",
    "    fw.close()"
   ]
  },
  {
   "cell_type": "markdown",
   "id": "eaddda69",
   "metadata": {},
   "source": [
    "# 归一化"
   ]
  },
  {
   "cell_type": "code",
   "execution_count": 5,
   "id": "2866cc7d",
   "metadata": {},
   "outputs": [],
   "source": [
    "def norm(arr):\n",
    "    row_sum = arr.sum(axis=1, keepdims=True) / MD\n",
    "    sigma = (arr - row_sum)**2\n",
    "    sigma = sigma.sum(axis=1, keepdims=True) / MD\n",
    "    for i, s in enumerate(sigma):\n",
    "        sigma[i] = math.sqrt(s)\n",
    "    if sigma[1] == 0:\n",
    "        return np.ones(shape=(arr.shape))\n",
    "    arr2 = (arr - row_sum) / sigma\n",
    "    ones = np.ones((1,MD))\n",
    "    arr2[0] = ones.copy()\n",
    "    return arr2"
   ]
  },
  {
   "cell_type": "markdown",
   "id": "9dcbd0b7",
   "metadata": {},
   "source": [
    "# 正向传播函数"
   ]
  },
  {
   "cell_type": "code",
   "execution_count": 6,
   "id": "851e07c2",
   "metadata": {},
   "outputs": [],
   "source": [
    "def forward_prop(x0, W, x, s, y):\n",
    "    for l in range(1, L+1):\n",
    "        if l == 1:\n",
    "            x[l] = x0\n",
    "        else:\n",
    "            x[l] = y[l-1]\n",
    "        s[l] = np.dot(W[l], x[l])\n",
    "        y[l] = activations[l](s[l])\n",
    "\n",
    "\n"
   ]
  },
  {
   "cell_type": "markdown",
   "id": "ab66c6a5",
   "metadata": {},
   "source": [
    "# 反向传播函数"
   ]
  },
  {
   "cell_type": "code",
   "execution_count": 7,
   "id": "45073e9e",
   "metadata": {},
   "outputs": [],
   "source": [
    "def back_prop(y0, x, y, W, dy, ds, dW):\n",
    "    for l in range(L,0, -1):\n",
    "        # print(l)\n",
    "        if l == L:\n",
    "            dy[l] = y[L] - y0\n",
    "            dg = reactivations[l](y[l])\n",
    "            ds[l] = dg * dy[l]\n",
    "        else:\n",
    "            dy[l][0] = np.zeros((1, MD))\n",
    "            dg = reactivations[l](y[l])\n",
    "            ds[l] = dg * dy[l]\n",
    "        \n",
    "        dW[l] = np.dot(ds[l], x[l].T) / MD\n",
    "        dy[l-1] = np.dot(W[l].T, ds[l])\n",
    "        "
   ]
  },
  {
   "cell_type": "markdown",
   "id": "6cf2ce4a",
   "metadata": {},
   "source": [
    "# 更新参数"
   ]
  },
  {
   "cell_type": "code",
   "execution_count": 8,
   "id": "afa2e7cb",
   "metadata": {},
   "outputs": [],
   "source": [
    "def update(W, dW):\n",
    "    for l in range(1, L+1):\n",
    "        W[l] -= alpha * dW[l]"
   ]
  },
  {
   "cell_type": "markdown",
   "id": "3f091a0b",
   "metadata": {},
   "source": [
    "# 激活函数"
   ]
  },
  {
   "cell_type": "code",
   "execution_count": 9,
   "id": "14caab0f",
   "metadata": {},
   "outputs": [],
   "source": [
    "def Cons(s):\n",
    "    return s.copy()\n",
    "\n",
    "def ReLU(s):\n",
    "    y = s.copy()\n",
    "    for j in range(1,len(s)):\n",
    "        for md in range(MD):\n",
    "            if s[j][md] < 0.0:\n",
    "                y[j][md] = 0.0\n",
    "    return y\n",
    "\n",
    "def sigmoid(s):\n",
    "    y = s.copy()\n",
    "    for j in range(1,len(s)):\n",
    "        for md in range(MD):\n",
    "            y[j][md] = 1.0 / (1 + math.exp(-s[j][md]))\n",
    "    return y\n",
    "\n",
    "def log(s):\n",
    "    y = s.copy()\n",
    "    for j in range(1,len(s)):\n",
    "        for md in range(MD):\n",
    "            if s[j][md] <= 0.0:\n",
    "                y[j][md] = 0.0\n",
    "            else:\n",
    "                y[j][md] = math.log(s[j][md]+1)\n",
    "    return y\n",
    "\n",
    "def exp(s):\n",
    "    y = s.copy()\n",
    "    for j in range(1,len(s)):\n",
    "        for md in range(MD):\n",
    "            y[j][md] = math.exp(s[j][md])\n",
    "    return y\n"
   ]
  },
  {
   "cell_type": "markdown",
   "id": "be144253",
   "metadata": {},
   "source": [
    "# 激活函数导数"
   ]
  },
  {
   "cell_type": "code",
   "execution_count": 10,
   "id": "5c7ec206",
   "metadata": {},
   "outputs": [],
   "source": [
    "def rCons(y):\n",
    "    return np.ones(shape=(y.shape))\n",
    "\n",
    "def rReLU(y):\n",
    "    dg = np.array([[float(md > 0) for md in j] for j in y])\n",
    "    dg = dg.reshape(y.shape)\n",
    "    return dg\n",
    "\n",
    "def rsigmoid(y):\n",
    "    dg = y * (1-y)\n",
    "    return dg\n",
    "\n",
    "def rlog(y):\n",
    "    dg = np.array([[math.exp(-y[i][k]) * float(md > 0) for k, md in enumerate(j)] for i, j in enumerate(y)])\n",
    "    dg = dg.reshape(y.shape)\n",
    "    return dg\n",
    "\n",
    "def rexp(y):\n",
    "    dg = y.copy()\n",
    "    return dg\n",
    "\n"
   ]
  },
  {
   "cell_type": "code",
   "execution_count": 11,
   "id": "5c2e8e8a",
   "metadata": {},
   "outputs": [
    {
     "name": "stdout",
     "output_type": "stream",
     "text": [
      "[[ 0  0]\n",
      " [-1 -2]\n",
      " [-3 -4]]\n",
      "[[  0   0]\n",
      " [ -2  -6]\n",
      " [-12 -20]]\n"
     ]
    }
   ],
   "source": [
    "import numpy as np\n",
    "a = np.array([[1,1],[2,3],[4,5]])\n",
    "print(1-a)\n",
    "print(a*(1-a))"
   ]
  },
  {
   "cell_type": "markdown",
   "id": "522f1a36",
   "metadata": {},
   "source": [
    "# 损失函数"
   ]
  },
  {
   "cell_type": "code",
   "execution_count": 74,
   "id": "bc9e1787",
   "metadata": {},
   "outputs": [],
   "source": [
    "def Loss(y, y0):\n",
    "    diff = y[1:] - y0[1:]\n",
    "    #print(\"diff\", diff)\n",
    "    diff = 0.5 * diff**2\n",
    "    diff = diff.reshape((N, MD))\n",
    "    #print(diff)\n",
    "    ave_loss = diff.sum(axis=1)/MD\n",
    "    return ave_loss"
   ]
  },
  {
   "cell_type": "code",
   "execution_count": 13,
   "id": "c5b15bdb",
   "metadata": {},
   "outputs": [],
   "source": [
    "def output(arr):\n",
    "    for i in arr:\n",
    "        print(i)"
   ]
  },
  {
   "cell_type": "code",
   "execution_count": null,
   "id": "b653e421",
   "metadata": {},
   "outputs": [],
   "source": []
  },
  {
   "cell_type": "code",
   "execution_count": 14,
   "id": "25e2a513",
   "metadata": {},
   "outputs": [
    {
     "name": "stdout",
     "output_type": "stream",
     "text": [
      "<class 'numpy.ndarray'>\n"
     ]
    }
   ],
   "source": [
    "a = np.array([[1,2],[3,4]])\n",
    "b = a[0] - a[1]\n",
    "b = b.reshape((1, 2))\n",
    "print(type(b.sum(axis=1)))"
   ]
  },
  {
   "cell_type": "code",
   "execution_count": null,
   "id": "2076dc5f",
   "metadata": {},
   "outputs": [],
   "source": []
  },
  {
   "cell_type": "code",
   "execution_count": null,
   "id": "657aa761",
   "metadata": {},
   "outputs": [],
   "source": []
  },
  {
   "cell_type": "code",
   "execution_count": null,
   "id": "3d429644",
   "metadata": {},
   "outputs": [],
   "source": []
  },
  {
   "cell_type": "code",
   "execution_count": null,
   "id": "3f509073",
   "metadata": {},
   "outputs": [],
   "source": []
  },
  {
   "cell_type": "code",
   "execution_count": null,
   "id": "701e6500",
   "metadata": {},
   "outputs": [],
   "source": []
  },
  {
   "cell_type": "code",
   "execution_count": null,
   "id": "07f701ad",
   "metadata": {},
   "outputs": [],
   "source": []
  },
  {
   "cell_type": "code",
   "execution_count": null,
   "id": "5a8c2efd",
   "metadata": {},
   "outputs": [],
   "source": []
  },
  {
   "cell_type": "code",
   "execution_count": null,
   "id": "bf0b3d6d",
   "metadata": {},
   "outputs": [],
   "source": []
  },
  {
   "cell_type": "code",
   "execution_count": null,
   "id": "bceaf54f",
   "metadata": {},
   "outputs": [],
   "source": []
  },
  {
   "cell_type": "code",
   "execution_count": null,
   "id": "2783b988",
   "metadata": {},
   "outputs": [],
   "source": []
  },
  {
   "cell_type": "code",
   "execution_count": null,
   "id": "7c183e2c",
   "metadata": {},
   "outputs": [],
   "source": []
  },
  {
   "cell_type": "code",
   "execution_count": null,
   "id": "cb0f4724",
   "metadata": {},
   "outputs": [],
   "source": []
  },
  {
   "cell_type": "code",
   "execution_count": null,
   "id": "9cc42ee6",
   "metadata": {},
   "outputs": [],
   "source": []
  },
  {
   "cell_type": "code",
   "execution_count": null,
   "id": "8813d965",
   "metadata": {},
   "outputs": [],
   "source": []
  },
  {
   "cell_type": "code",
   "execution_count": null,
   "id": "f9010d8a",
   "metadata": {},
   "outputs": [],
   "source": []
  },
  {
   "cell_type": "code",
   "execution_count": null,
   "id": "345816cc",
   "metadata": {},
   "outputs": [],
   "source": []
  },
  {
   "cell_type": "code",
   "execution_count": null,
   "id": "83ff75db",
   "metadata": {},
   "outputs": [],
   "source": []
  },
  {
   "cell_type": "code",
   "execution_count": null,
   "id": "ff51f2fc",
   "metadata": {},
   "outputs": [],
   "source": []
  },
  {
   "cell_type": "code",
   "execution_count": null,
   "id": "4d2a7d05",
   "metadata": {},
   "outputs": [],
   "source": []
  },
  {
   "cell_type": "code",
   "execution_count": null,
   "id": "65049539",
   "metadata": {},
   "outputs": [],
   "source": []
  },
  {
   "cell_type": "code",
   "execution_count": null,
   "id": "c3fe87db",
   "metadata": {},
   "outputs": [],
   "source": []
  },
  {
   "cell_type": "code",
   "execution_count": null,
   "id": "b96d0aec",
   "metadata": {},
   "outputs": [],
   "source": []
  },
  {
   "cell_type": "code",
   "execution_count": null,
   "id": "ee1fc10e",
   "metadata": {},
   "outputs": [],
   "source": []
  },
  {
   "cell_type": "code",
   "execution_count": null,
   "id": "cb4ae6f1",
   "metadata": {},
   "outputs": [],
   "source": []
  },
  {
   "cell_type": "code",
   "execution_count": null,
   "id": "ea52ae0a",
   "metadata": {},
   "outputs": [],
   "source": []
  }
 ],
 "metadata": {
  "kernelspec": {
   "display_name": "Python [conda env:root] *",
   "language": "python",
   "name": "conda-root-py"
  },
  "language_info": {
   "codemirror_mode": {
    "name": "ipython",
    "version": 3
   },
   "file_extension": ".py",
   "mimetype": "text/x-python",
   "name": "python",
   "nbconvert_exporter": "python",
   "pygments_lexer": "ipython3",
   "version": "3.8.0"
  }
 },
 "nbformat": 4,
 "nbformat_minor": 5
}
