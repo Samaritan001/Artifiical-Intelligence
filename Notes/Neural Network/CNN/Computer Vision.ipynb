{
 "cells": [
  {
   "cell_type": "markdown",
   "id": "fa5f279b",
   "metadata": {},
   "source": [
    "# Computer Vision Problems\n",
    "1. Image Classification\n",
    "2. Object Detection\n",
    "3. Neural Style Transfer"
   ]
  },
  {
   "cell_type": "markdown",
   "id": "e887cd09",
   "metadata": {},
   "source": [
    "__Why Convolutional Neural Network__\n",
    "\n",
    "For large pictures, there are too many pixels and therefore features to train, easily overfit"
   ]
  },
  {
   "cell_type": "markdown",
   "id": "94242d84",
   "metadata": {},
   "source": [
    "# Edge Detection Example\n",
    "A filter (kernal) is used to detect the edges.\n",
    "\n",
    "Convolution operation (* in math) is applied between the image and the filter\n",
    "\n",
    "Vertical edge detector:\n",
    "\n",
    "$\n",
    "\\begin{bmatrix}\n",
    "    3 & 0 & 1 & 2 & 7 & 4 \\\\\n",
    "    1 & 5 & 8 & 9 & 3 & 1 \\\\\n",
    "    2 & 7 & 2 & 5 & 1 & 3 \\\\\n",
    "    0 & 1 & 3 & 1 & 7 & 8 \\\\\n",
    "    4 & 2 & 1 & 6 & 2 & 8 \\\\\n",
    "    2 & 4 & 5 & 2 & 3 & 9\n",
    "\\end{bmatrix} \\ *\\ \n",
    "\\begin{bmatrix}\n",
    "    1 & 0 & -1 \\\\\n",
    "    1 & 0 & -1 \\\\\n",
    "    1 & 0 & -1 \\\\\n",
    "\\end{bmatrix} \\ =\\ \n",
    "\\begin{bmatrix}\n",
    "    -5 & -4 & 0 & 8 \\\\\n",
    "    -10 & -2 & 2 & 3 \\\\\n",
    "    0 & -2 & -4 & -7 \\\\\n",
    "    -3 & -2 & -3 & -16\n",
    "\\end{bmatrix}\n",
    "$\n",
    "\n",
    "This filter represents the edges where bright pixels on the left and dark pixels on the right\n",
    "\n",
    "## Filters\n",
    "Sobel Filter\n",
    "\n",
    "\\begin{bmatrix}\n",
    "    1 & 0 & -1 \\\\\n",
    "    2 & 0 & -2 \\\\\n",
    "    1 & 0 & -1 \\\\\n",
    "\\end{bmatrix}\n",
    "\n",
    "Scharr Filter\n",
    "\n",
    "\\begin{bmatrix}\n",
    "    3 & 0 & -3 \\\\\n",
    "    10 & 0 & -10 \\\\\n",
    "    3 & 0 & -3 \\\\\n",
    "\\end{bmatrix}\n",
    "\n",
    "Neural network can actually learn the $w$ features in a filter (back propagation), and the filter may detect edges of all degrees\n",
    "\n",
    "\\begin{bmatrix}\n",
    "    w_1 & w_2 & w_3 \\\\\n",
    "    w_4 & w_5 & w_6 \\\\\n",
    "    w_7 & w_8 & w_9 \\\\\n",
    "\\end{bmatrix}"
   ]
  },
  {
   "cell_type": "markdown",
   "id": "88dab427",
   "metadata": {},
   "source": [
    "# Padding\n",
    "If the image is $n\\ \\times\\ n$, the filter is $f\\ \\times\\ f$, the output is $(n-f+1)\\ \\times\\ (n-f+1)$\n",
    "\n",
    "For filters, $f$ is mostly odd\n",
    "\n",
    "__Problems__\n",
    "1. The output dimension shrinks\n",
    "2. Pixels near the edges are used less than those in the center (throw away info on the edges)\n",
    "\n",
    "__Solution (Padding)__\n",
    "Expand the input image with p circles of pixels to $(n+2p)\\ \\times\\ (n+2p)$, and the output to $(n+2p-f+1)\\ \\times\\ (n+2p-f+1)$\n",
    "\n",
    "Usually the added pixels are assigned with 0\n",
    "\n",
    "## Valid and Same convolutions\n",
    "Valid: without padding\n",
    "\n",
    "Same: pad so that output size equals input size, $p = \\frac{f-1}{2}$"
   ]
  },
  {
   "cell_type": "markdown",
   "id": "71aa3f25",
   "metadata": {},
   "source": [
    "# Strided Convolution\n",
    "Stride s = 2, change the step length of convolution to 2\n",
    "\n",
    "The output dimension becomes $\\lfloor(\\frac{n+2p-f}{s}+1)\\rfloor\\ \\times\\ \\lfloor(\\frac{n+2p-f}{s}+1)\\rfloor$, where $\\lfloor x \\rfloor = floor(x)$ is to round down $x$"
   ]
  },
  {
   "cell_type": "markdown",
   "id": "09d2a924",
   "metadata": {},
   "source": [
    "Ps. Mathematically, convolution requires mirroring the filter over horizontal axis and then vertical axis, but in machine learning this step is omitted"
   ]
  },
  {
   "cell_type": "code",
   "execution_count": null,
   "id": "92c04af0",
   "metadata": {},
   "outputs": [],
   "source": []
  }
 ],
 "metadata": {
  "kernelspec": {
   "display_name": "Python 3 (ipykernel)",
   "language": "python",
   "name": "python3"
  },
  "language_info": {
   "codemirror_mode": {
    "name": "ipython",
    "version": 3
   },
   "file_extension": ".py",
   "mimetype": "text/x-python",
   "name": "python",
   "nbconvert_exporter": "python",
   "pygments_lexer": "ipython3",
   "version": "3.9.12"
  }
 },
 "nbformat": 4,
 "nbformat_minor": 5
}
