{
 "cells": [
  {
   "cell_type": "markdown",
   "id": "e532d3f0",
   "metadata": {},
   "source": [
    "# Deep Neural Network"
   ]
  },
  {
   "cell_type": "markdown",
   "id": "9b27d96f",
   "metadata": {},
   "source": [
    "## Front Propagation\n",
    "### One Data Group\n",
    "$z^{[l]} = W^{[l]}a^{[l-1]} + b^{[l]}\\\\\n",
    "a^{[l]} = g^{[l]}(z^{[l]})$\n",
    "### Vectorization\n",
    "$Z^{[l]} = W^{[l]}A^{[l-1]} + b^{[l]}\\\\\n",
    "A^{[l]} = g^{[l]}(Z^{[l]})$"
   ]
  },
  {
   "cell_type": "markdown",
   "id": "13224aae",
   "metadata": {},
   "source": [
    "## Back Propagation\n",
    "### One Data Group\n",
    "$\n",
    "da^{[L]} = Loss Function Derivative\\\\\n",
    "dz^{[l]} = da^{[l-1]} * g^{'[l]}(z^{[l]})\\\\\n",
    "dW^{[l]} = dz^{[l]}a^{[l-1]^T}\\\\\n",
    "db^{[l]} = dz^{[l]}\\\\\n",
    "da^{[l-1]} = dW^{[l]^T}dz{[l]}\n",
    "$\n",
    "\n",
    "### Vectorization\n",
    "$\n",
    "da^{[L]} = Loss Function Derivative\\\\\n",
    "dZ^{[l]} = dA^{[l-1]} * g^{'[l]}(Z^{[l]})\\\\\n",
    "dW^{[l]} = \\frac{1}{m}dZ^{[l]}A^{[l-1]^T}\\\\\n",
    "db^{[l]} = \\frac{1}{m}dZ^{[l]}\\\\\n",
    "dA^{[l-1]} = dW^{[l]^T}dZ{[l]}\n",
    "$"
   ]
  },
  {
   "cell_type": "markdown",
   "id": "56cbbc24",
   "metadata": {},
   "source": [
    "## Dimensions Check\n",
    "$\n",
    "W, dW: (n^{[l]}, n^{[l-1]})\\\\\n",
    "b, db: (n^{[l]}, 1)\\\\\n",
    "z, a, dz, da: (n^{[l]}, 1)\\\\\n",
    "Z, A, dZ, dA: (n^{[l]}, m)\n",
    "$"
   ]
  },
  {
   "cell_type": "markdown",
   "id": "d611b494",
   "metadata": {},
   "source": [
    "## Hyperparameters - parameters that control W and b\n",
    "Learning rate $\\alpha$\n",
    "\n",
    "#Gradient Descent iteration\n",
    "\n",
    "#hidden layers $L$\n",
    "\n",
    "#hidden units $n^{[1]}, n^{[2]}, ...$\n",
    "\n",
    "Choice of activation function"
   ]
  },
  {
   "cell_type": "code",
   "execution_count": null,
   "id": "4ec47b60",
   "metadata": {},
   "outputs": [],
   "source": []
  }
 ],
 "metadata": {
  "kernelspec": {
   "display_name": "Python 3 (ipykernel)",
   "language": "python",
   "name": "python3"
  },
  "language_info": {
   "codemirror_mode": {
    "name": "ipython",
    "version": 3
   },
   "file_extension": ".py",
   "mimetype": "text/x-python",
   "name": "python",
   "nbconvert_exporter": "python",
   "pygments_lexer": "ipython3",
   "version": "3.9.12"
  }
 },
 "nbformat": 4,
 "nbformat_minor": 5
}
