{
 "cells": [
  {
   "cell_type": "markdown",
   "id": "783ca17a-265b-4972-bca9-c042d3ff4840",
   "metadata": {
    "tags": []
   },
   "source": [
    "# 牛顿下山法"
   ]
  },
  {
   "cell_type": "markdown",
   "id": "cc1a28ae-8f84-4bb9-8c3b-6aaafedb0b4c",
   "metadata": {
    "tags": []
   },
   "source": [
    "牛顿下山法源于牛顿法，实际上它和没有本质的区别。 所以我们可以直接先来看一看牛顿法。"
   ]
  },
  {
   "cell_type": "markdown",
   "id": "37d79101-258c-4436-a1a9-06fc14a7f677",
   "metadata": {},
   "source": [
    "**牛顿法**\n",
    "\n",
    "牛顿法，又叫牛顿迭代法，是用来在实数域和复数域进行求解的方法。\n",
    "多数方程是没有求解公式的，因此求近似解就很重要。"
   ]
  },
  {
   "cell_type": "markdown",
   "id": "ce5c8681-1d42-456c-8a32-41d6cad29929",
   "metadata": {},
   "source": [
    "牛顿迭代公式：是由泰勒展开式生发而来的。"
   ]
  },
  {
   "cell_type": "markdown",
   "id": "e2f44950-0a90-4e68-bef7-f3f7bb46178a",
   "metadata": {},
   "source": [
    "欲求$f(x)=0$的近似解，我们可以先设$f(r)=0$,然后选定一个近似于r的$x_0$,然后使用泰勒展开："
   ]
  },
  {
   "cell_type": "markdown",
   "id": "8749beb8-7bb1-41e6-87ed-9f393d24a3fd",
   "metadata": {},
   "source": [
    "$$f(x)=f(x_0)+f'(x_0)(x-x_0)+\\frac{f^{(2)}(x_0)(x-x_0)^2}{2!}+\\frac{f^{(3)}(x_0)(x-x_0)^3}{3!}+\\cdots+\\frac{f^{(n)}(x_0)(x-x_0)^n}{n!}\\tag{1}$$"
   ]
  },
  {
   "cell_type": "markdown",
   "id": "9fbfb973-f3d5-40cd-b70d-e62da5eac4b6",
   "metadata": {},
   "source": [
    "上述（1）式后面的几项可以被看做高阶无穷小量，从而被忽略掉，只剩下：\n",
    "$$f(x)=f(x_0)+f'(x_0)(x-x_0)\\tag{2}$$"
   ]
  },
  {
   "cell_type": "markdown",
   "id": "58f64bfe-040e-4491-b0af-d5a37fa7a26d",
   "metadata": {},
   "source": [
    "然后，我们解方程组\n",
    "\n",
    "$$\n",
    "\\begin{cases}\n",
    "f(x)=0\\tag{3}\\\\\n",
    "x=x_0-\\frac{f(x_0)}{f'(x_0)}\\\\\n",
    "\\end{cases}\n",
    "$$"
   ]
  },
  {
   "cell_type": "markdown",
   "id": "5526dd1e-850c-420e-87cf-bd57c9ce80bb",
   "metadata": {},
   "source": [
    "得到解$x_1$,$x_1$就称为r的*一次近似值*"
   ]
  },
  {
   "cell_type": "markdown",
   "id": "f0001e9d-feb5-4385-aef8-f72534da4f87",
   "metadata": {},
   "source": [
    "然后，用$x_1$替换前面的$x_0$，在进行一遍上述操作得到$x_2$,称为r的*二次近似值*"
   ]
  },
  {
   "cell_type": "markdown",
   "id": "2275a3f8-d6b2-4191-b587-2c4363281150",
   "metadata": {},
   "source": [
    "这样也就得到了牛顿迭代法的一个近似关系：$x_{n+1}=x_n+\\frac{f(x_n)}{f'(x_{n})}$"
   ]
  },
  {
   "cell_type": "markdown",
   "id": "3add39fa-405f-4df8-b6f8-1efe1d3a44bd",
   "metadata": {},
   "source": [
    "已经证明，如果是连续的，并且待求的零点是孤立的，那么在零点周围存在一个区域，只要初始值位于这个邻近区域内，那么牛顿法必定收敛。 并且，如果不为0, 那么牛顿法将具有平方收敛的性能. 粗略的说，这意味着每迭代一次，牛顿法结果的有效数字将增加一倍。\n",
    "\n",
    "迭代法也称辗转法，是一种不断用变量的旧值递推新值的过程，跟迭代法相对应的是直接法（或者称为一次解法），即一次性解决问题。迭代算法是用计算机解决问题的一种基本方法。它利用计算机运算速度快、适合做重复性操作的特点，让计算机对一组指令（或一定步骤）重复执行，在每次执行这组指令（或这些步骤）时，都从变量的原值推出它的一个新值。"
   ]
  },
  {
   "cell_type": "markdown",
   "id": "3306021b-b8a7-4d38-bba1-0d91bab07592",
   "metadata": {},
   "source": [
    "**下山法**\\\n",
    "下山法要求每一次迭代都“下山”，即满足\n",
    "$$\n",
    "|f(x_{n+1})|<|f(x_n)|\n",
    "$$\n",
    "\n",
    "**牛顿下山法**\\\n",
    "牛顿下山法为牛顿法和下山法的结合。\\\n",
    "牛顿下山法的原理如下：\n",
    "$$\n",
    "x_{n+1}=x_n-w_n\\frac{f(x_n)}{f'(x_n)}\\tag{4}\n",
    "$$"
   ]
  },
  {
   "cell_type": "markdown",
   "id": "02ea1929-ba3b-4356-a7cd-04f8ba679e1e",
   "metadata": {},
   "source": [
    "其中$w_n$称为**迭代参数**，介于0和1之间。\\\n",
    "迭代系数由加权平均系数得来：\n",
    "$$x_{n+1} := w_nx_{n+1} + (1-w_n)x_n\\tag{5}$$\n",
    "其中$w_n$决定了对历史迭代中$x$值的参考程度。因此，一般在每次使用$w_n$进行**修正**后对其进行减半处理，能够在多次迭代后有效减小步长。"
   ]
  },
  {
   "cell_type": "markdown",
   "id": "1e9fc60d",
   "metadata": {},
   "source": [
    "**算法操作和终止判定**\\\n",
    "使用牛顿下山法迭代，如果满足单调性，则继续。如果某次迭代不满足单调性，则减半迭代参数进行**修正**，如果依然不满足单调性则下山失败，如果满足则继续迭代。\\\n",
    "达到迭代步数后终止。"
   ]
  },
  {
   "cell_type": "markdown",
   "id": "8ea8e7e1-4942-4e6a-8f50-53e1cf3ce1ae",
   "metadata": {},
   "source": [
    "计算机运用了牛顿下山法的数学原理，是因为我们通常在进行学习时，很难保证初始值和目标值足够接近。而牛顿下山法则不对初始值的设置进行要求。这为我们的机器学习提供了很大的便利。\n",
    "\n",
    "而且，我们学习的目的是要让损失函数L$（\\hat{y},y）|$的绝对值$|L（\\hat{y},y）|$"
   ]
  }
 ],
 "metadata": {
  "kernelspec": {
   "display_name": "Python 3 (ipykernel)",
   "language": "python",
   "name": "python3"
  },
  "language_info": {
   "codemirror_mode": {
    "name": "ipython",
    "version": 3
   },
   "file_extension": ".py",
   "mimetype": "text/x-python",
   "name": "python",
   "nbconvert_exporter": "python",
   "pygments_lexer": "ipython3",
   "version": "3.9.12"
  }
 },
 "nbformat": 4,
 "nbformat_minor": 5
}
