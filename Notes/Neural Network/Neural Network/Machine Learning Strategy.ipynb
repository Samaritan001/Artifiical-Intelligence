{
 "cells": [
  {
   "cell_type": "markdown",
   "id": "e87a5d5d",
   "metadata": {},
   "source": [
    "# Machine Learning Strategy"
   ]
  },
  {
   "cell_type": "markdown",
   "id": "39899b69",
   "metadata": {},
   "source": [
    "## Orthogonization\n",
    "Methods that correspondingly change each characteristic without affecting the others much\n",
    "\n",
    "Targets when tuning a model and orthogonized methods when not\n",
    "1. Fit training set well on cost function; Bigger network, Adam algorithm\n",
    "2. Fit dev set well on cost function; Regularization, Bigger training set\n",
    "3. Fit test set well on cost function; Bigger dev set\n",
    "4. Performs well in real world; Change dev set, Change cost function"
   ]
  },
  {
   "cell_type": "markdown",
   "id": "31376289",
   "metadata": {},
   "source": [
    "## Single Number Evaluation Metric\n",
    "Use one real number as the one standard for the performance of the model, and this number represents all the others\n",
    "\n",
    "For example, $F1 = \\frac{2}{\\frac{1}{Precision}\\ \\ \\ \\ + \\ \\ \\frac{1}{Recall}}$\n",
    "\n",
    "__Deciding the metric is aiming for a target, it takes place before working towards the target__\n",
    "\n",
    "### Optimizing & Satisfying\n",
    "For values unintuitive to unite, like accuracy and running time.\n",
    "\n",
    "Optimize one metric while satisfying the a range of other metrics\n",
    "\n",
    "For example, maximize accuracy while running time is less than 100ms"
   ]
  },
  {
   "cell_type": "markdown",
   "id": "cb68ad66",
   "metadata": {},
   "source": [
    "## Train/Dev/Test Set\n",
    "### Distribution\n",
    "Dev and Test must come from the same data distribution\n",
    "\n",
    "### Size\n",
    "Traditional split: when data is not abundant (< 10,000)\n",
    "1. Train:Test = 70%:30%\n",
    "2. Train:Dev:Test = 60%:20%:20%\n",
    "For larger dataset, the proportions should change\n",
    "\n",
    "Test set size = 10,000 or 100,000 is usually big enough to give high confidencein the overall performance of the system\n",
    "\n",
    "Sometimes it's okay to not have a test set\n",
    "\n",
    "## Change the Metric\n",
    "When the established metric gives evaluations inconsistant with real situation, it's subject to change, though it may take more time to design or label data"
   ]
  },
  {
   "cell_type": "markdown",
   "id": "8eaab58a",
   "metadata": {},
   "source": [
    "## Bayes Error\n",
    "The unavoidable error, usually the extreme accuracy human can achieve\n",
    "\n",
    "When machine performance approaches Bayes Error, it becomes harder to identify which has greater effect, bias or variance\n",
    "\n",
    "The Bias is calculated with regard to the Bayes Error"
   ]
  },
  {
   "cell_type": "code",
   "execution_count": null,
   "id": "68aaf843",
   "metadata": {},
   "outputs": [],
   "source": []
  }
 ],
 "metadata": {
  "kernelspec": {
   "display_name": "Python 3 (ipykernel)",
   "language": "python",
   "name": "python3"
  },
  "language_info": {
   "codemirror_mode": {
    "name": "ipython",
    "version": 3
   },
   "file_extension": ".py",
   "mimetype": "text/x-python",
   "name": "python",
   "nbconvert_exporter": "python",
   "pygments_lexer": "ipython3",
   "version": "3.9.12"
  }
 },
 "nbformat": 4,
 "nbformat_minor": 5
}
