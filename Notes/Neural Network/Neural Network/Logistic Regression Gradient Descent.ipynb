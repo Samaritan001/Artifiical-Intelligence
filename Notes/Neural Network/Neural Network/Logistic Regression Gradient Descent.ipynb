{
 "cells": [
  {
   "cell_type": "markdown",
   "id": "109de12b",
   "metadata": {},
   "source": [
    "# Gradient Descent in Logistic Regression"
   ]
  },
  {
   "cell_type": "markdown",
   "id": "621ca763",
   "metadata": {},
   "source": [
    "## Traditional Algorithm (using for loops)"
   ]
  },
  {
   "cell_type": "code",
   "execution_count": null,
   "id": "6f84284a",
   "metadata": {},
   "outputs": [],
   "source": [
    "import numpy as np\n",
    "\n",
    "# m = the size of the dataset\n",
    "# n = the number of data in one group\n",
    "# w = the vector for features, (n, 1)\n",
    "# b = the intercepter value\n",
    "# x = the vector of one group of data in the dataset, x^(i), (n, 1)\n",
    "# z = output value of the linear transformation, z^(i)\n",
    "# a = output value of the activation function, the predicted value, a^(i)\n",
    "# J = the overall average loss\n",
    "# y = one actual value in a group of data, y^(i)\n",
    "# dz = the value for dL/dz in one data group, dz^(i)\n",
    "# dw = the vector for the average dL/dw_i in the dataset, (n, 1)\n",
    "# db = the value for the average dL/db in the dataset\n",
    "\n",
    "def sigmoid(z):\n",
    "    return 1 / (1 + np.exp(-z))"
   ]
  },
  {
   "cell_type": "code",
   "execution_count": null,
   "id": "093d6b09",
   "metadata": {},
   "outputs": [],
   "source": [
    "# for one gradient descent\n",
    "\n",
    "n = 2\n",
    "J = 0, b = 0\n",
    "dw = np.zeros(n, 1)\n",
    "\n",
    "for i in range(m):\n",
    "    z = np.dot(np.transpose(w), x) + b # z^(i) = w^T * x^(i) + b\n",
    "    a = sigmoid(z)\n",
    "    J += -(y * np.log(a) + (1-y) * np.log(1-a))\n",
    "    dz = a - y\n",
    "    dw += x * dz\n",
    "    db += dz\n",
    "\n",
    "J /= m\n",
    "dw /= m\n",
    "db /= m\n",
    "    "
   ]
  },
  {
   "cell_type": "markdown",
   "id": "73ba156b",
   "metadata": {},
   "source": [
    "## Vectorization Algorithm (without explicit for loops)"
   ]
  },
  {
   "cell_type": "code",
   "execution_count": null,
   "id": "b65046b8",
   "metadata": {},
   "outputs": [],
   "source": [
    "import numpy as np\n",
    "\n",
    "# m = the size of the dataset\n",
    "# n = the number of data in one group\n",
    "# w = the vector for features, (n, 1)\n",
    "# b = the intercepter value\n",
    "# X = the dataset matrix, [x^(1), x^(2), ..., x^(m)], (n, m)\n",
    "# Z = output vector of the linear transformation, [z^(1), z^(2), ..., z^(m)], (1, m)\n",
    "# A = output vector of the activation function, the predicted values, [a^(1), a^(2), ..., a^(m)], (1, m)\n",
    "# J = the overall average loss\n",
    "# Y = the vector of actual values, [y^(1), y^(2), ..., y^(m)], (m, 1)\n",
    "# dZ = the vector of dL/dz*(i), [dz^(1), dz^(2), ..., dz^(m)], (1, m)\n",
    "# dw = the vector for the average dL/dw_i in the dataset, (n, 1)\n",
    "# db = the value for the average dL/db in the dataset\n",
    "# alpha = the learning rate\n"
   ]
  },
  {
   "cell_type": "code",
   "execution_count": null,
   "id": "0d9faedb",
   "metadata": {},
   "outputs": [],
   "source": [
    "# for one gradient descent\n",
    "\n",
    "b = 0\n",
    "dw = np.zeros(n, 1)\n",
    "\n",
    "# front propagation\n",
    "Z = np.dot(np.transpose(w), X) + b\n",
    "A = sigmoid(Z)\n",
    "J = -(np.dot(Y, np.log(A)) + np.dot((1 - Y), np.log(1 - A))) / m\n",
    "\n",
    "# back propagation\n",
    "dZ = A - Y\n",
    "dw = np.dot(X, np.transpose(dZ)) # dw = [x^(1) * dz^(1) + x^(2) * dz^(2) + ... + x^(m) * dz^(m)]\n",
    "b = np.sum(dZ)\n",
    "dw /= m\n",
    "b /= m\n",
    "\n",
    "w -= np.dot(alpha, dw)\n",
    "b -= alpha * db\n",
    "\n",
    "# for p times of gradient descent, a for loop is still needed"
   ]
  },
  {
   "cell_type": "code",
   "execution_count": null,
   "id": "13ef88aa",
   "metadata": {},
   "outputs": [],
   "source": []
  }
 ],
 "metadata": {
  "kernelspec": {
   "display_name": "Python 3 (ipykernel)",
   "language": "python",
   "name": "python3"
  },
  "language_info": {
   "codemirror_mode": {
    "name": "ipython",
    "version": 3
   },
   "file_extension": ".py",
   "mimetype": "text/x-python",
   "name": "python",
   "nbconvert_exporter": "python",
   "pygments_lexer": "ipython3",
   "version": "3.9.12"
  }
 },
 "nbformat": 4,
 "nbformat_minor": 5
}
